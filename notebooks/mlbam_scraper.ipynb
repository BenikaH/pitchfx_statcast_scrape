{
 "cells": [
  {
   "cell_type": "code",
   "execution_count": 16,
   "metadata": {
    "collapsed": true
   },
   "outputs": [],
   "source": [
    "import requests\n",
    "import xml.etree.ElementTree as et\n",
    "from os import path\n",
    "from bs4 import BeautifulSoup"
   ]
  },
  {
   "cell_type": "code",
   "execution_count": 17,
   "metadata": {
    "collapsed": false
   },
   "outputs": [],
   "source": [
    "ROOTPATH = '/home/ubuntu/baseballdata/'\n",
    "\n",
    "def xml_recurse(table_name, node, gid, referer='NONE', depth=0):\n",
    "    subtables = list(set([child.tag for child in node.getchildren()])) or ['NONE']\n",
    "    attribs = list()\n",
    "    text = ''\n",
    "    \n",
    "    if bool(node.attrib):\n",
    "        attribs = list(node.attrib.values())\n",
    "    if node.text:\n",
    "        text = node.text\n",
    "        \n",
    "    for child in node.getchildren():\n",
    "        xml_recurse(table_name, child, node.tag, depth=depth+1)\n",
    "    \n",
    "    write_node(table_name, xmltree.tag, node.tag, gid, subtables, referer, attribs, text.strip())\n",
    "            \n",
    "def write_node(table_name, rootnode, tag, gid, subtables, parent, attributes, text):\n",
    "    write_path = '{}.{}.{}.txt'.format(ROOTPATH + table_name, rootnode, tag)\n",
    "    attributes = '\\t'.join(attributes)\n",
    "    for subtable in subtables:\n",
    "        with open(write_path, 'a+') as tmp:\n",
    "            tmp.write('\\t'.join([gid, subtable, parent, attributes, text]) + '\\n')"
   ]
  },
  {
   "cell_type": "code",
   "execution_count": 18,
   "metadata": {
    "collapsed": true
   },
   "outputs": [],
   "source": [
    "def get_links_in_game(path, depth=0):\n",
    "    response = requests.get(path)\n",
    "    soup = BeautifulSoup(response.text, 'html.parser')\n",
    "\n",
    "    for link in soup.find_all('a')[1:]:\n",
    "        mylink = link.get('href')\n",
    "        if mylink.split('.')[-1] in {'xml', 'plist'}:\n",
    "            table_name = ''\n",
    "            if depth == 0:\n",
    "                table_name = (path[96:] + mylink).split('.')[0]\n",
    "            elif depth == 1:\n",
    "                table_name = (path[96:] + mylink).split('.')[0].split('/')[0]\n",
    "            else:\n",
    "                table_name = (path[96:] + mylink).split('.')[0].split('/')[1] + '_' + (path[96:] + mylink).split('.')[0].split('/')[3]                \n",
    "            response = requests.get(path + mylink)\n",
    "            xmltree = et.fromstring(response.text)\n",
    "            gameid = path + mylink\n",
    "            gameid = gameid.split('/')[9]\n",
    "            xml_recurse(table_name, xmltree, gameid)\n",
    "        else:\n",
    "            get_links_in_game(path + mylink, depth+1)"
   ]
  },
  {
   "cell_type": "code",
   "execution_count": 20,
   "metadata": {
    "collapsed": false
   },
   "outputs": [],
   "source": [
    "get_links_in_game('http://gd2.mlb.com/components/game/mlb/year_2016/month_05/day_07/gid_2016_05_07_oakmlb_balmlb_1/')\n",
    "get_links_in_game('http://gd2.mlb.com/components/game/mlb/year_2016/month_05/day_07/gid_2016_05_07_oakmlb_balmlb_2/')"
   ]
  },
  {
   "cell_type": "code",
   "execution_count": 21,
   "metadata": {
    "collapsed": false
   },
   "outputs": [
    {
     "ename": "NameError",
     "evalue": "name 'du' is not defined",
     "output_type": "error",
     "traceback": [
      "\u001b[1;31m---------------------------------------------------------------------------\u001b[0m",
      "\u001b[1;31mNameError\u001b[0m                                 Traceback (most recent call last)",
      "\u001b[1;32m<ipython-input-21-aff35cccca1c>\u001b[0m in \u001b[0;36m<module>\u001b[1;34m()\u001b[0m\n\u001b[1;32m----> 1\u001b[1;33m \u001b[0mdu\u001b[0m \u001b[1;33m-\u001b[0m\u001b[0mh\u001b[0m\u001b[1;33m\u001b[0m\u001b[0m\n\u001b[0m",
      "\u001b[1;31mNameError\u001b[0m: name 'du' is not defined"
     ]
    }
   ],
   "source": []
  },
  {
   "cell_type": "code",
   "execution_count": null,
   "metadata": {
    "collapsed": true
   },
   "outputs": [],
   "source": []
  }
 ],
 "metadata": {
  "kernelspec": {
   "display_name": "Python 3",
   "language": "python",
   "name": "python3"
  },
  "language_info": {
   "codemirror_mode": {
    "name": "ipython",
    "version": 3
   },
   "file_extension": ".py",
   "mimetype": "text/x-python",
   "name": "python",
   "nbconvert_exporter": "python",
   "pygments_lexer": "ipython3",
   "version": "3.5.1"
  }
 },
 "nbformat": 4,
 "nbformat_minor": 0
}
