{
 "cells": [
  {
   "cell_type": "code",
   "execution_count": 1,
   "metadata": {
    "collapsed": true
   },
   "outputs": [],
   "source": [
    "import datetime\n",
    "import requests\n",
    "from bs4 import BeautifulSoup\n",
    "from itertools import count\n",
    "from itertools import groupby\n",
    "import xml.etree.cElementTree as et\n",
    "import pandas as pd"
   ]
  },
  {
   "cell_type": "code",
   "execution_count": 2,
   "metadata": {
    "collapsed": false
   },
   "outputs": [],
   "source": [
    "class MlbamGame:\n",
    "    def __init__(self, gid, write_folder, include=None, exclude=None):\n",
    "        if self._validate_id(gid):\n",
    "            self.gid = gid\n",
    "            self.url = self._make_mlbam_base_path(gid)\n",
    "            self.include = include\n",
    "            self.exclude = exclude\n",
    "            self.write_folder = write_folder\n",
    "        else:\n",
    "            raise Exception('{} is not a valid gameid. it must be before today and of the form \\\"gid_YYYY_MM_DD_<away><league>_<home><league>_<gamenum>\\\"'.format(gid))\n",
    "\n",
    "    @staticmethod\n",
    "    def _validate_id(gid):\n",
    "        if type(gid) != str:\n",
    "            return False\n",
    "        if len(gid) != 30:\n",
    "            return False\n",
    "        if datetime.datetime.strptime(gid[4:14], '%Y_%m_%d').date() > datetime.date.today():\n",
    "            return False\n",
    "        if datetime.datetime.strptime(gid[4:14], '%Y_%m_%d').date() < datetime.date(2008, 1, 1):\n",
    "            return False\n",
    "        return True\n",
    "    \n",
    "    @staticmethod\n",
    "    def _make_mlbam_base_path(gid):\n",
    "        url_template = 'http://gd2.mlb.com/components/game/mlb/year_{}/month_{}/day_{}/{}/'\n",
    "        assert(gid[4:8].isnumeric())\n",
    "        assert(gid[9:11].isnumeric())\n",
    "        assert(gid[12:14].isnumeric())\n",
    "        return(url_template.format(gid[4:8], gid[9:11], gid[12:14], gid))\n",
    "    \n",
    "    def get_links_in_game(self, exclude=None, include=None):\n",
    "        if exclude is not None and type(exclude) is not list:\n",
    "            exclude = [exclude]\n",
    "        if include is not None and type(include) is not list:\n",
    "            include = [include]\n",
    "\n",
    "        if include is not None and exclude is not None:\n",
    "            raise Exception('only exclude OR include allowed')\n",
    "\n",
    "        def recurse_links(base_path):\n",
    "            response = requests.get(base_path)\n",
    "            soup = BeautifulSoup(response.text, 'html.parser')\n",
    "\n",
    "            for link in soup.find_all('a')[1:]:\n",
    "                new_base_path = base_path + link.get('href')\n",
    "                if new_base_path.split('.')[-1] in {'xml', 'plist'}:\n",
    "                    if exclude is not None and not any([x in new_base_path for x in exclude]):\n",
    "                        target.append(new_base_path)\n",
    "                    elif include is not None and any([x in new_base_path for x in include]):\n",
    "                        target.append(new_base_path)\n",
    "                    elif exclude is None and include is None:\n",
    "                        target.append(new_base_path)\n",
    "                else:\n",
    "                    recurse_links(new_base_path)\n",
    "\n",
    "        target = list()\n",
    "        recurse_links(self.url)\n",
    "        return(target)\n",
    "\n",
    "    @staticmethod\n",
    "    def get_xml_tree(path):\n",
    "        if path.startswith('http'):\n",
    "            response = requests.get(path)\n",
    "        xmltree = et.fromstring(response.text)\n",
    "        return(xmltree)\n",
    "    \n",
    "    def xml_to_table(self, root_node):\n",
    "        \n",
    "        def get_key(node):\n",
    "            if node in indexes:\n",
    "                return(next(indexes[node]))\n",
    "            else:\n",
    "                indexes[node] = count()\n",
    "                return(next(indexes[node]))\n",
    "\n",
    "        def recurse_xml(node, referer=None, referer_key=None):\n",
    "            key = get_key(node.tag)\n",
    "            subtables = set([child.tag for child in node.getchildren()]) or 'NONE'\n",
    "            attribs = dict()\n",
    "            text = ''\n",
    "\n",
    "            if bool(node.attrib):\n",
    "                attribs = node.attrib\n",
    "            if node.text:\n",
    "                text = node.text\n",
    "\n",
    "            for child in node.getchildren():\n",
    "                recurse_xml(child, node.tag, key)\n",
    "\n",
    "            target.append({\n",
    "                    'gid': self.gid,\n",
    "                    'node_type': node.tag,\n",
    "                    'key': key,\n",
    "                    'parent_table': referer, \n",
    "                    'parent_key': referer_key,\n",
    "                    'text': text.strip(),\n",
    "                    **attribs\n",
    "                })\n",
    "\n",
    "        indexes = dict()\n",
    "        target = list()\n",
    "        recurse_xml(root_node)\n",
    "        return(target)\n",
    "\n",
    "    def write_tables(self, rows, rootpath, group_key='node_type'):\n",
    "        group_func = lambda x: x[group_key]\n",
    "        for key, group in groupby(sorted(rows, key=group_func), key=group_func):\n",
    "            table = pd.DataFrame(list(group))\n",
    "            table.drop(group_key, axis=1, inplace=True)\n",
    "            table.to_csv('{}{}.tsv'.format(rootpath, key), sep='\\t', index=False)\n",
    "            \n",
    "    def scrape(self):\n",
    "        links = self.get_links_in_game(self.exclude, self.include)\n",
    "        for link in links:\n",
    "            tree = self.get_xml_tree(link)\n",
    "            table = self.xml_to_table(tree)\n",
    "            self.write_tables(table, self.write_folder)"
   ]
  },
  {
   "cell_type": "code",
   "execution_count": 5,
   "metadata": {
    "collapsed": false
   },
   "outputs": [],
   "source": [
    "test = MlbamGame('gid_2016_05_07_nynmlb_sdnmlb_1', '/home/ubuntu/src/pitchfx_statcast_scrape/data/')\n",
    "test.scrape()"
   ]
  },
  {
   "cell_type": "code",
   "execution_count": 4,
   "metadata": {
    "collapsed": false
   },
   "outputs": [
    {
     "name": "stdout",
     "output_type": "stream",
     "text": [
      " "
     ]
    }
   ],
   "source": [
    "%%prun\n",
    "test.scrape()"
   ]
  },
  {
   "cell_type": "code",
   "execution_count": null,
   "metadata": {
    "collapsed": true
   },
   "outputs": [],
   "source": []
  }
 ],
 "metadata": {
  "kernelspec": {
   "display_name": "Python 3",
   "language": "python",
   "name": "python3"
  },
  "language_info": {
   "codemirror_mode": {
    "name": "ipython",
    "version": 3
   },
   "file_extension": ".py",
   "mimetype": "text/x-python",
   "name": "python",
   "nbconvert_exporter": "python",
   "pygments_lexer": "ipython3",
   "version": "3.5.1"
  }
 },
 "nbformat": 4,
 "nbformat_minor": 0
}
